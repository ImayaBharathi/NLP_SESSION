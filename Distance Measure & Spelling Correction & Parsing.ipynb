{
 "cells": [
  {
   "cell_type": "code",
   "execution_count": 1,
   "metadata": {},
   "outputs": [
    {
     "name": "stdout",
     "output_type": "stream",
     "text": [
      "Requirement already satisfied: fuzzywuzzy[speedup] in /home/imaya/py36/lib/python3.6/site-packages (0.16.0)\n",
      "Requirement already satisfied: python-levenshtein>=0.12; extra == \"speedup\" in /home/imaya/py36/lib/python3.6/site-packages (from fuzzywuzzy[speedup]) (0.12.0)\n",
      "Requirement already satisfied: setuptools in /home/imaya/py36/lib/python3.6/site-packages (from python-levenshtein>=0.12; extra == \"speedup\"->fuzzywuzzy[speedup]) (45.2.0)\n",
      "\u001b[33mWARNING: You are using pip version 20.0.2; however, version 20.2.4 is available.\n",
      "You should consider upgrading via the '/home/imaya/py36/bin/python -m pip install --upgrade pip' command.\u001b[0m\n"
     ]
    }
   ],
   "source": [
    "\n",
    "import sys\n",
    "# !{sys.executable} -m pip install fuzzywuzzy\n",
    "# alternative for 4-10x faster computation: \n",
    "!{sys.executable} -m pip install fuzzywuzzy[speedup]\n",
    "!{sys.executable} -m pip install jellyfish\n"
   ]
  },
  {
   "cell_type": "code",
   "execution_count": 3,
   "metadata": {},
   "outputs": [],
   "source": [
    "\n",
    "import jellyfish\n",
    "correct_example = ('Narendra Modi', 'Narendra Modi')\n",
    "damodardas_example = ('Narendra Modi', 'Narendra D. Modi')\n",
    "modi_typo_example = ('Narendra Modi', 'Narendar Modi')\n",
    "gujarat_typo_example = ('Gujarat', 'Gujrat')\n",
    "\n",
    "examples = [correct_example, damodardas_example, modi_typo_example, gujarat_typo_example]"
   ]
  },
  {
   "cell_type": "code",
   "execution_count": 4,
   "metadata": {},
   "outputs": [],
   "source": [
    "\n",
    "def calculate_distance(function, examples=examples):\n",
    "    for ele in examples:\n",
    "        print(f'{ele}: {function(*ele)}')\n"
   ]
  },
  {
   "cell_type": "code",
   "execution_count": 5,
   "metadata": {},
   "outputs": [
    {
     "name": "stdout",
     "output_type": "stream",
     "text": [
      "('Narendra Modi', 'Narendra Modi'): 0\n",
      "('Narendra Modi', 'Narendra D. Modi'): 3\n",
      "('Narendra Modi', 'Narendar Modi'): 2\n",
      "('Gujarat', 'Gujrat'): 1\n"
     ]
    }
   ],
   "source": [
    "calculate_distance(jellyfish.levenshtein_distance)\n"
   ]
  },
  {
   "cell_type": "code",
   "execution_count": 6,
   "metadata": {},
   "outputs": [
    {
     "name": "stdout",
     "output_type": "stream",
     "text": [
      "('Narendra Modi', 'Narendra Modi'): 0\n",
      "('Narendra Modi', 'Narendra D. Modi'): 3\n",
      "('Narendra Modi', 'Narendar Modi'): 1\n",
      "('Gujarat', 'Gujrat'): 1\n"
     ]
    }
   ],
   "source": [
    "calculate_distance(jellyfish.damerau_levenshtein_distance)\n"
   ]
  },
  {
   "cell_type": "code",
   "execution_count": 7,
   "metadata": {},
   "outputs": [
    {
     "name": "stdout",
     "output_type": "stream",
     "text": [
      "('Narendra Modi', 'Narendra Modi'): 0\n",
      "('Narendra Modi', 'Narendra D. Modi'): 7\n",
      "('Narendra Modi', 'Narendar Modi'): 2\n",
      "('Gujarat', 'Gujrat'): 4\n"
     ]
    }
   ],
   "source": [
    "calculate_distance(jellyfish.hamming_distance)"
   ]
  },
  {
   "cell_type": "code",
   "execution_count": 8,
   "metadata": {},
   "outputs": [
    {
     "name": "stdout",
     "output_type": "stream",
     "text": [
      "('Narendra Modi', 'Narendra Modi'): 1.0\n",
      "('Narendra Modi', 'Narendra D. Modi'): 0.9375\n",
      "('Narendra Modi', 'Narendar Modi'): 0.9743589743589745\n",
      "('Gujarat', 'Gujrat'): 0.8968253968253969\n"
     ]
    }
   ],
   "source": [
    "calculate_distance(jellyfish.jaro_distance)\n"
   ]
  },
  {
   "cell_type": "code",
   "execution_count": 9,
   "metadata": {
    "scrolled": true
   },
   "outputs": [
    {
     "name": "stdout",
     "output_type": "stream",
     "text": [
      "('Narendra Modi', 'Narendra Modi'): 1.0\n",
      "('Narendra Modi', 'Narendra D. Modi'): 0.9625\n",
      "('Narendra Modi', 'Narendar Modi'): 0.9846153846153847\n",
      "('Gujarat', 'Gujrat'): 0.9277777777777778\n"
     ]
    }
   ],
   "source": [
    "calculate_distance(jellyfish.jaro_winkler)\n"
   ]
  },
  {
   "cell_type": "markdown",
   "metadata": {},
   "source": [
    "### Cosine Distance"
   ]
  },
  {
   "cell_type": "code",
   "execution_count": 10,
   "metadata": {},
   "outputs": [],
   "source": [
    "import math\n",
    "from collections import Counter\n",
    "def get_cosine(vec1, vec2):\n",
    "    common = set(vec1.keys()) & set(vec2.keys())\n",
    "    numerator = sum([vec1[x] * vec2[x] for x in common])\n",
    "\n",
    "    sum1 = sum([vec1[x]**2 for x in vec1.keys()]) \n",
    "    sum2 = sum([vec2[x]**2 for x in vec2.keys()]) \n",
    "    denominator = math.sqrt(sum1) * math.sqrt(sum2)\n",
    "   \n",
    "    if not denominator:\n",
    "        return 0.0 \n",
    "    else:\n",
    "        return float(numerator) / denominator\n",
    "\n",
    "def text_to_vector(text): \n",
    "    words = text.split() \n",
    "    return Counter(words)\n",
    "\n",
    "text1 = 'This is an article on analytics vidhya' \n",
    "text2 = 'article on analytics vidhya is about natural language processing'\n",
    "\n",
    "vector1 = text_to_vector(text1) \n",
    "vector2 = text_to_vector(text2) \n",
    "cosine = get_cosine(vector1, vector2)\n"
   ]
  },
  {
   "cell_type": "code",
   "execution_count": 11,
   "metadata": {},
   "outputs": [
    {
     "name": "stdout",
     "output_type": "stream",
     "text": [
      "0.629940788348712\n"
     ]
    }
   ],
   "source": [
    "print(cosine)"
   ]
  },
  {
   "cell_type": "code",
   "execution_count": null,
   "metadata": {},
   "outputs": [],
   "source": []
  }
 ],
 "metadata": {
  "kernelspec": {
   "display_name": "Python 3",
   "language": "python",
   "name": "python3"
  },
  "language_info": {
   "codemirror_mode": {
    "name": "ipython",
    "version": 3
   },
   "file_extension": ".py",
   "mimetype": "text/x-python",
   "name": "python",
   "nbconvert_exporter": "python",
   "pygments_lexer": "ipython3",
   "version": "3.6.9"
  }
 },
 "nbformat": 4,
 "nbformat_minor": 4
}
